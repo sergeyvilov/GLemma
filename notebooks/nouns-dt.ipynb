{
 "cells": [
  {
   "cell_type": "code",
   "execution_count": 1,
   "id": "5993c6a5-789a-4a55-a9e0-1146c318a641",
   "metadata": {},
   "outputs": [],
   "source": [
    "import sys\n",
    "import re\n",
    "from collections import defaultdict\n",
    "import json\n",
    "import os\n",
    "import re\n",
    "import pickle\n",
    "\n",
    "\n",
    "import pandas as pd\n",
    "import numpy as np\n",
    "\n",
    "from sklearn.preprocessing import OrdinalEncoder\n",
    "from sklearn.model_selection import StratifiedGroupKFold,RandomizedSearchCV\n",
    "from sklearn.tree import DecisionTreeClassifier"
   ]
  },
  {
   "cell_type": "code",
   "execution_count": 2,
   "id": "660e6697-2e84-4282-a72d-f78d890c5d88",
   "metadata": {},
   "outputs": [],
   "source": [
    "with open('data/nouns.json', 'rt', encoding='UTF-8') as json_file:\n",
    "    nouns = json.load(json_file)\n",
    "\n",
    "wordfreq = pd.read_csv('data/third-party/FrequencyWords/content/2018/de/de_full.txt', sep=' ', names=['word','freq']).set_index('word').freq.sort_values(ascending=False) #sort by frequency\n",
    "wordfreq = wordfreq.to_dict()"
   ]
  },
  {
   "cell_type": "code",
   "execution_count": 3,
   "id": "74ebe553-36e3-4aaa-a83f-2041e50d3050",
   "metadata": {},
   "outputs": [],
   "source": [
    "rules = []\n",
    "\n",
    "for wordform,lemmas in nouns.items():\n",
    "    for lemma_dict in lemmas:\n",
    "        lemma = lemma_dict['lemma']\n",
    "        if wordform==lemma:\n",
    "            rules.append((wordform,lemma,lemma_dict['genus'],lemma_dict['connection'], ''))\n",
    "        elif wordform.startswith(lemma):\n",
    "            ending = wordform.replace(lemma,'+')\n",
    "            rules.append((wordform,lemma,lemma_dict['genus'],lemma_dict['connection'], ending))\n",
    "        else:\n",
    "            rules.append((wordform,lemma,lemma_dict['genus'],lemma_dict['connection'], '-'))\n",
    "\n",
    "rules = pd.DataFrame(rules,columns=['wordform', 'lemma', 'genus', 'connection', 'rule'])"
   ]
  },
  {
   "cell_type": "code",
   "execution_count": 4,
   "id": "81b7f6a2-cc8d-4bf7-a6bc-2726ff1fc210",
   "metadata": {},
   "outputs": [],
   "source": [
    "#rules_blind = rules.copy()\n",
    "#rules_blind[['connection','genus']] = '-'\n",
    "\n",
    "#rules = pd.concat([rules,rules_blind])"
   ]
  },
  {
   "cell_type": "code",
   "execution_count": 5,
   "id": "03a7b5fc-da06-47a7-9f54-1ff93a1b9bdc",
   "metadata": {},
   "outputs": [
    {
     "data": {
      "text/plain": [
       "rule\n",
       "       392682\n",
       "+en     85962\n",
       "+n      82390\n",
       "+s      72581\n",
       "-       71555\n",
       "Name: count, dtype: int64"
      ]
     },
     "execution_count": 5,
     "metadata": {},
     "output_type": "execute_result"
    }
   ],
   "source": [
    "class_counts = rules.rule.value_counts()\n",
    "class_counts.head()"
   ]
  },
  {
   "cell_type": "code",
   "execution_count": 6,
   "id": "7f382b53-8976-46fb-b922-1aa9019a5642",
   "metadata": {},
   "outputs": [],
   "source": [
    "class_counts = class_counts[class_counts>20]\n",
    "\n",
    "rules.loc[~rules.rule.isin(class_counts.index),'rule'] = '-'"
   ]
  },
  {
   "cell_type": "code",
   "execution_count": 7,
   "id": "6ab2b028-175c-46a9-a7ea-d87d9d3f49a3",
   "metadata": {},
   "outputs": [],
   "source": [
    "N_LAST = 6\n",
    "\n",
    "word_endings = []\n",
    "for idx in range(-N_LAST,0):\n",
    "    word_endings.append(rules.wordform.apply(lambda x:x[idx:]).rename(f'last_{abs(idx)}'))\n",
    "    \n",
    "word_endings = pd.concat(word_endings,axis=1)\n",
    "\n",
    "rules = pd.concat([word_endings,rules],axis=1)"
   ]
  },
  {
   "cell_type": "code",
   "execution_count": 13,
   "id": "7b27986d-2856-4d1d-aa49-7a1ebb824090",
   "metadata": {},
   "outputs": [],
   "source": [
    "features_encoder = OrdinalEncoder(handle_unknown='use_encoded_value',unknown_value=-1)\n",
    "\n",
    "rules_enc = {rule:idx for idx,rule in enumerate(rules.rule.unique())}"
   ]
  },
  {
   "cell_type": "code",
   "execution_count": 9,
   "id": "c4276022-a142-42e3-9b20-a4dbe4f67ae9",
   "metadata": {},
   "outputs": [
    {
     "data": {
      "text/plain": [
       "(820231, 8)"
      ]
     },
     "execution_count": 9,
     "metadata": {},
     "output_type": "execute_result"
    }
   ],
   "source": [
    "X = rules.drop(columns=['lemma','wordform','rule']).values\n",
    "y = rules.rule.map(rules_enc).values\n",
    "\n",
    "X.shape"
   ]
  },
  {
   "cell_type": "code",
   "execution_count": 10,
   "id": "406d71bf-257b-427b-93cc-284611e86bb3",
   "metadata": {},
   "outputs": [],
   "source": [
    "sgkf = StratifiedGroupKFold(n_splits=5)"
   ]
  },
  {
   "cell_type": "code",
   "execution_count": 11,
   "id": "8a210e4f-2760-4a17-8f11-2895c7616189",
   "metadata": {},
   "outputs": [],
   "source": [
    "for i, (train_index, test_index) in enumerate(sgkf.split(X, y, rules.lemma)):\n",
    "    break"
   ]
  },
  {
   "cell_type": "code",
   "execution_count": 12,
   "id": "21d3f7b7-e5fa-4ead-a597-b754928b8af0",
   "metadata": {},
   "outputs": [],
   "source": [
    "X_train, y_train  = X[train_index], y[train_index] \n",
    "X_test, y_test = X[test_index], y[test_index]"
   ]
  },
  {
   "cell_type": "code",
   "execution_count": 14,
   "id": "f267644d-8953-4f85-abd7-cdd5427dc3e0",
   "metadata": {},
   "outputs": [],
   "source": [
    "X_train = features_encoder.fit_transform(X_train)\n",
    "X_test = features_encoder.transform(X_test)"
   ]
  },
  {
   "cell_type": "code",
   "execution_count": 15,
   "id": "cd8f2a11-157d-4a54-ae9e-556259c75779",
   "metadata": {},
   "outputs": [],
   "source": [
    "#distributions = dict(max_depth=[5,10,15,20,30],min_samples_split=[2,5,10,20,50])\n",
    "#dt = DecisionTreeClassifier()\n",
    "#clf = RandomizedSearchCV(dt,distributions,random_state=0)\n",
    "#search = clf.fit(X_train,y_train)"
   ]
  },
  {
   "cell_type": "code",
   "execution_count": 26,
   "id": "7720a808-78e0-4888-8390-62b5fb443dac",
   "metadata": {},
   "outputs": [
    {
     "data": {
      "text/html": [
       "<style>#sk-container-id-4 {color: black;}#sk-container-id-4 pre{padding: 0;}#sk-container-id-4 div.sk-toggleable {background-color: white;}#sk-container-id-4 label.sk-toggleable__label {cursor: pointer;display: block;width: 100%;margin-bottom: 0;padding: 0.3em;box-sizing: border-box;text-align: center;}#sk-container-id-4 label.sk-toggleable__label-arrow:before {content: \"▸\";float: left;margin-right: 0.25em;color: #696969;}#sk-container-id-4 label.sk-toggleable__label-arrow:hover:before {color: black;}#sk-container-id-4 div.sk-estimator:hover label.sk-toggleable__label-arrow:before {color: black;}#sk-container-id-4 div.sk-toggleable__content {max-height: 0;max-width: 0;overflow: hidden;text-align: left;background-color: #f0f8ff;}#sk-container-id-4 div.sk-toggleable__content pre {margin: 0.2em;color: black;border-radius: 0.25em;background-color: #f0f8ff;}#sk-container-id-4 input.sk-toggleable__control:checked~div.sk-toggleable__content {max-height: 200px;max-width: 100%;overflow: auto;}#sk-container-id-4 input.sk-toggleable__control:checked~label.sk-toggleable__label-arrow:before {content: \"▾\";}#sk-container-id-4 div.sk-estimator input.sk-toggleable__control:checked~label.sk-toggleable__label {background-color: #d4ebff;}#sk-container-id-4 div.sk-label input.sk-toggleable__control:checked~label.sk-toggleable__label {background-color: #d4ebff;}#sk-container-id-4 input.sk-hidden--visually {border: 0;clip: rect(1px 1px 1px 1px);clip: rect(1px, 1px, 1px, 1px);height: 1px;margin: -1px;overflow: hidden;padding: 0;position: absolute;width: 1px;}#sk-container-id-4 div.sk-estimator {font-family: monospace;background-color: #f0f8ff;border: 1px dotted black;border-radius: 0.25em;box-sizing: border-box;margin-bottom: 0.5em;}#sk-container-id-4 div.sk-estimator:hover {background-color: #d4ebff;}#sk-container-id-4 div.sk-parallel-item::after {content: \"\";width: 100%;border-bottom: 1px solid gray;flex-grow: 1;}#sk-container-id-4 div.sk-label:hover label.sk-toggleable__label {background-color: #d4ebff;}#sk-container-id-4 div.sk-serial::before {content: \"\";position: absolute;border-left: 1px solid gray;box-sizing: border-box;top: 0;bottom: 0;left: 50%;z-index: 0;}#sk-container-id-4 div.sk-serial {display: flex;flex-direction: column;align-items: center;background-color: white;padding-right: 0.2em;padding-left: 0.2em;position: relative;}#sk-container-id-4 div.sk-item {position: relative;z-index: 1;}#sk-container-id-4 div.sk-parallel {display: flex;align-items: stretch;justify-content: center;background-color: white;position: relative;}#sk-container-id-4 div.sk-item::before, #sk-container-id-4 div.sk-parallel-item::before {content: \"\";position: absolute;border-left: 1px solid gray;box-sizing: border-box;top: 0;bottom: 0;left: 50%;z-index: -1;}#sk-container-id-4 div.sk-parallel-item {display: flex;flex-direction: column;z-index: 1;position: relative;background-color: white;}#sk-container-id-4 div.sk-parallel-item:first-child::after {align-self: flex-end;width: 50%;}#sk-container-id-4 div.sk-parallel-item:last-child::after {align-self: flex-start;width: 50%;}#sk-container-id-4 div.sk-parallel-item:only-child::after {width: 0;}#sk-container-id-4 div.sk-dashed-wrapped {border: 1px dashed gray;margin: 0 0.4em 0.5em 0.4em;box-sizing: border-box;padding-bottom: 0.4em;background-color: white;}#sk-container-id-4 div.sk-label label {font-family: monospace;font-weight: bold;display: inline-block;line-height: 1.2em;}#sk-container-id-4 div.sk-label-container {text-align: center;}#sk-container-id-4 div.sk-container {/* jupyter's `normalize.less` sets `[hidden] { display: none; }` but bootstrap.min.css set `[hidden] { display: none !important; }` so we also need the `!important` here to be able to override the default hidden behavior on the sphinx rendered scikit-learn.org. See: https://github.com/scikit-learn/scikit-learn/issues/21755 */display: inline-block !important;position: relative;}#sk-container-id-4 div.sk-text-repr-fallback {display: none;}</style><div id=\"sk-container-id-4\" class=\"sk-top-container\"><div class=\"sk-text-repr-fallback\"><pre>DecisionTreeClassifier(max_depth=20, min_samples_split=50)</pre><b>In a Jupyter environment, please rerun this cell to show the HTML representation or trust the notebook. <br />On GitHub, the HTML representation is unable to render, please try loading this page with nbviewer.org.</b></div><div class=\"sk-container\" hidden><div class=\"sk-item\"><div class=\"sk-estimator sk-toggleable\"><input class=\"sk-toggleable__control sk-hidden--visually\" id=\"sk-estimator-id-4\" type=\"checkbox\" checked><label for=\"sk-estimator-id-4\" class=\"sk-toggleable__label sk-toggleable__label-arrow\">DecisionTreeClassifier</label><div class=\"sk-toggleable__content\"><pre>DecisionTreeClassifier(max_depth=20, min_samples_split=50)</pre></div></div></div></div></div>"
      ],
      "text/plain": [
       "DecisionTreeClassifier(max_depth=20, min_samples_split=50)"
      ]
     },
     "execution_count": 26,
     "metadata": {},
     "output_type": "execute_result"
    }
   ],
   "source": [
    "clf = DecisionTreeClassifier(max_depth=20,min_samples_split=50)\n",
    "\n",
    "#clf = DecisionTreeClassifier()\n",
    "\n",
    "clf.fit(X_train,y_train)"
   ]
  },
  {
   "cell_type": "code",
   "execution_count": 18,
   "id": "174f014f-9349-4b71-8c5e-0d131643795a",
   "metadata": {},
   "outputs": [
    {
     "data": {
      "text/plain": [
       "0.9535920021945198"
      ]
     },
     "execution_count": 18,
     "metadata": {},
     "output_type": "execute_result"
    }
   ],
   "source": [
    "clf.score(X_test,y_test)"
   ]
  },
  {
   "cell_type": "code",
   "execution_count": 24,
   "id": "d502eed7-3dab-4a92-ac17-e4a1ac43bee3",
   "metadata": {},
   "outputs": [
    {
     "data": {
      "text/plain": [
       "Index(['last_6', 'last_5', 'last_4', 'last_3', 'last_2', 'last_1', 'genus',\n",
       "       'connection'],\n",
       "      dtype='object')"
      ]
     },
     "execution_count": 24,
     "metadata": {},
     "output_type": "execute_result"
    }
   ],
   "source": [
    "rules.drop(columns=['lemma','wordform','rule']).columns"
   ]
  },
  {
   "cell_type": "code",
   "execution_count": 28,
   "id": "ed67b6f4-f16a-4ff9-8aab-43d39c1f56a8",
   "metadata": {},
   "outputs": [
    {
     "data": {
      "text/plain": [
       "array([[-1., -1., -1., -1., -1., -1., -1., -1.],\n",
       "       [-1., -1., -1., -1., -1., -1., -1., -1.]])"
      ]
     },
     "execution_count": 28,
     "metadata": {},
     "output_type": "execute_result"
    }
   ],
   "source": [
    "X_test_[-2:]"
   ]
  },
  {
   "cell_type": "code",
   "execution_count": 29,
   "id": "a3fa9ee2-132a-488b-9d34-fcbb8308adde",
   "metadata": {},
   "outputs": [
    {
     "data": {
      "text/plain": [
       "0.5866743881252096"
      ]
     },
     "execution_count": 29,
     "metadata": {},
     "output_type": "execute_result"
    }
   ],
   "source": [
    "X_test_ = X_test.copy()\n",
    "X_test_[:,-2:] = -1\n",
    "\n",
    "clf.score(X_test_,y_test)"
   ]
  },
  {
   "cell_type": "code",
   "execution_count": 20,
   "id": "f35dfe1a-e0ef-40dd-aef3-a6a7769313c7",
   "metadata": {},
   "outputs": [
    {
     "data": {
      "text/html": [
       "<style>#sk-container-id-2 {color: black;}#sk-container-id-2 pre{padding: 0;}#sk-container-id-2 div.sk-toggleable {background-color: white;}#sk-container-id-2 label.sk-toggleable__label {cursor: pointer;display: block;width: 100%;margin-bottom: 0;padding: 0.3em;box-sizing: border-box;text-align: center;}#sk-container-id-2 label.sk-toggleable__label-arrow:before {content: \"▸\";float: left;margin-right: 0.25em;color: #696969;}#sk-container-id-2 label.sk-toggleable__label-arrow:hover:before {color: black;}#sk-container-id-2 div.sk-estimator:hover label.sk-toggleable__label-arrow:before {color: black;}#sk-container-id-2 div.sk-toggleable__content {max-height: 0;max-width: 0;overflow: hidden;text-align: left;background-color: #f0f8ff;}#sk-container-id-2 div.sk-toggleable__content pre {margin: 0.2em;color: black;border-radius: 0.25em;background-color: #f0f8ff;}#sk-container-id-2 input.sk-toggleable__control:checked~div.sk-toggleable__content {max-height: 200px;max-width: 100%;overflow: auto;}#sk-container-id-2 input.sk-toggleable__control:checked~label.sk-toggleable__label-arrow:before {content: \"▾\";}#sk-container-id-2 div.sk-estimator input.sk-toggleable__control:checked~label.sk-toggleable__label {background-color: #d4ebff;}#sk-container-id-2 div.sk-label input.sk-toggleable__control:checked~label.sk-toggleable__label {background-color: #d4ebff;}#sk-container-id-2 input.sk-hidden--visually {border: 0;clip: rect(1px 1px 1px 1px);clip: rect(1px, 1px, 1px, 1px);height: 1px;margin: -1px;overflow: hidden;padding: 0;position: absolute;width: 1px;}#sk-container-id-2 div.sk-estimator {font-family: monospace;background-color: #f0f8ff;border: 1px dotted black;border-radius: 0.25em;box-sizing: border-box;margin-bottom: 0.5em;}#sk-container-id-2 div.sk-estimator:hover {background-color: #d4ebff;}#sk-container-id-2 div.sk-parallel-item::after {content: \"\";width: 100%;border-bottom: 1px solid gray;flex-grow: 1;}#sk-container-id-2 div.sk-label:hover label.sk-toggleable__label {background-color: #d4ebff;}#sk-container-id-2 div.sk-serial::before {content: \"\";position: absolute;border-left: 1px solid gray;box-sizing: border-box;top: 0;bottom: 0;left: 50%;z-index: 0;}#sk-container-id-2 div.sk-serial {display: flex;flex-direction: column;align-items: center;background-color: white;padding-right: 0.2em;padding-left: 0.2em;position: relative;}#sk-container-id-2 div.sk-item {position: relative;z-index: 1;}#sk-container-id-2 div.sk-parallel {display: flex;align-items: stretch;justify-content: center;background-color: white;position: relative;}#sk-container-id-2 div.sk-item::before, #sk-container-id-2 div.sk-parallel-item::before {content: \"\";position: absolute;border-left: 1px solid gray;box-sizing: border-box;top: 0;bottom: 0;left: 50%;z-index: -1;}#sk-container-id-2 div.sk-parallel-item {display: flex;flex-direction: column;z-index: 1;position: relative;background-color: white;}#sk-container-id-2 div.sk-parallel-item:first-child::after {align-self: flex-end;width: 50%;}#sk-container-id-2 div.sk-parallel-item:last-child::after {align-self: flex-start;width: 50%;}#sk-container-id-2 div.sk-parallel-item:only-child::after {width: 0;}#sk-container-id-2 div.sk-dashed-wrapped {border: 1px dashed gray;margin: 0 0.4em 0.5em 0.4em;box-sizing: border-box;padding-bottom: 0.4em;background-color: white;}#sk-container-id-2 div.sk-label label {font-family: monospace;font-weight: bold;display: inline-block;line-height: 1.2em;}#sk-container-id-2 div.sk-label-container {text-align: center;}#sk-container-id-2 div.sk-container {/* jupyter's `normalize.less` sets `[hidden] { display: none; }` but bootstrap.min.css set `[hidden] { display: none !important; }` so we also need the `!important` here to be able to override the default hidden behavior on the sphinx rendered scikit-learn.org. See: https://github.com/scikit-learn/scikit-learn/issues/21755 */display: inline-block !important;position: relative;}#sk-container-id-2 div.sk-text-repr-fallback {display: none;}</style><div id=\"sk-container-id-2\" class=\"sk-top-container\"><div class=\"sk-text-repr-fallback\"><pre>DecisionTreeClassifier(max_depth=20, min_samples_split=50)</pre><b>In a Jupyter environment, please rerun this cell to show the HTML representation or trust the notebook. <br />On GitHub, the HTML representation is unable to render, please try loading this page with nbviewer.org.</b></div><div class=\"sk-container\" hidden><div class=\"sk-item\"><div class=\"sk-estimator sk-toggleable\"><input class=\"sk-toggleable__control sk-hidden--visually\" id=\"sk-estimator-id-2\" type=\"checkbox\" checked><label for=\"sk-estimator-id-2\" class=\"sk-toggleable__label sk-toggleable__label-arrow\">DecisionTreeClassifier</label><div class=\"sk-toggleable__content\"><pre>DecisionTreeClassifier(max_depth=20, min_samples_split=50)</pre></div></div></div></div></div>"
      ],
      "text/plain": [
       "DecisionTreeClassifier(max_depth=20, min_samples_split=50)"
      ]
     },
     "execution_count": 20,
     "metadata": {},
     "output_type": "execute_result"
    }
   ],
   "source": [
    "clf.fit(features_encoder.transform(X),y)"
   ]
  },
  {
   "cell_type": "code",
   "execution_count": 21,
   "id": "935c7e6b-4569-4665-8af3-e2867dccbf0f",
   "metadata": {},
   "outputs": [],
   "source": [
    "with open('data/nouns-dt.pickle','wb') as f:\n",
    "    pickle.dump({'clf':clf,\n",
    "                   'features_encoder':features_encoder,\n",
    "                   'features_list':rules.columns.drop(['lemma','wordform','rule']).tolist(),\n",
    "                   'rules_list':list(rules_enc.keys()),\n",
    "                   'n_last':N_LAST}, f)"
   ]
  },
  {
   "cell_type": "code",
   "execution_count": 27,
   "id": "ca302bac-95f5-402c-9839-0cd361860610",
   "metadata": {},
   "outputs": [],
   "source": [
    "class NounsDTClassifier():\n",
    "\n",
    "    def __init__(self, path):\n",
    "\n",
    "        with open(path,'rb') as f:\n",
    "\n",
    "            data = pickle.load(f)\n",
    "            \n",
    "            self.dt_clf = data['clf']\n",
    "            self.features_encoder = data['features_encoder']\n",
    "            self.features_list = data['features_list']\n",
    "            self.rules_list = data['rules_list']\n",
    "            self.n_last = data['n_last']\n",
    "        \n",
    "    def __call__(self, word, constraints=None):\n",
    "        \n",
    "        encoding_dict = {feature:cat for feature,cat in zip(self.features_list, self.features_encoder.categories_)}\n",
    "    \n",
    "        if constraints is None:\n",
    "            constraints = [[genus,connection] for connection in encoding_dict['connection'] for genus in encoding_dict['genus']]\n",
    "            \n",
    "        data = []\n",
    "        \n",
    "        word_parts = [word[idx:] for idx in range(-self.n_last,0)]\n",
    "        \n",
    "        for constraint in constraints:\n",
    "            data.append(word_parts+list(constraint))\n",
    "    \n",
    "        try:\n",
    "            word_enc = self.features_encoder.transform(data)\n",
    "        except:\n",
    "            return None\n",
    "                    \n",
    "        pred = self.dt_clf.predict_proba(word_enc).mean(0)\n",
    "        \n",
    "        rule = self.rules_list[np.argmax(pred)]\n",
    "    \n",
    "        if rule=='':\n",
    "            return word\n",
    "        elif rule.startswith('+'):\n",
    "            return re.sub(f'{rule[1:]}$','',word)\n",
    "            \n",
    "        return None"
   ]
  }
 ],
 "metadata": {
  "kernelspec": {
   "display_name": "Python 3 (ipykernel)",
   "language": "python",
   "name": "python3"
  },
  "language_info": {
   "codemirror_mode": {
    "name": "ipython",
    "version": 3
   },
   "file_extension": ".py",
   "mimetype": "text/x-python",
   "name": "python",
   "nbconvert_exporter": "python",
   "pygments_lexer": "ipython3",
   "version": "3.10.13"
  }
 },
 "nbformat": 4,
 "nbformat_minor": 5
}
